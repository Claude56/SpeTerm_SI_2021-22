{
 "cells": [
  {
   "cell_type": "markdown",
   "id": "sufficient-gibraltar",
   "metadata": {},
   "source": [
    "<h3 style=\"color: purple\">Spé. Term. SI: Correction devoir Python:  </h3>   "
   ]
  },
  {
   "attachments": {
    "tables.png": {
     "image/png": "[encoded data removed]"
    }
   },
   "cell_type": "markdown",
   "id": "fresh-saver",
   "metadata": {},
   "source": [
    "<h3  class='fa fa-cog' style=\"color: purple\"> Exercice 1: Tables de multiplication</h3> <br> \n",
    "    \n",
    "![tables.png](attachment:tables.png)"
   ]
  },
  {
   "cell_type": "code",
   "execution_count": null,
   "id": "about-national",
   "metadata": {},
   "outputs": [],
   "source": [
    "tab = input(\"Table de multiplication par: ?\")\n",
    "for i in range(10):\n",
    "    print(tab,\" x\", i,\" = \",int(tab)*i)"
   ]
  },
  {
   "cell_type": "markdown",
   "id": "closed-compatibility",
   "metadata": {},
   "source": [
    "<i class=\"fa fa-arrow-right\" aria-hidden=\"true\"></i> Nous ne sommes pas tout à fait satisfait de l'exemple ci dessus : Il s'arrête à tab * 9 => et non tab * 10 \n",
    "\n",
    "<i class=\"fa fa-arrow-right\" aria-hidden=\"true\"></i> Plusieurs corrections possibles:  <br>\n",
    "1. Corriger la boucle: ```for i in range(1,11):```\n",
    "Note à propos de la boucle for et de ses paramètres optionnels:  \n",
    "```for i in range(X, Y, Z):```  \n",
    "X => borne de début (=0 par défaut);  \n",
    "Y => borne de fin (indispensable);  \n",
    "Z => valeur de l'incrément (à préciser si différent de 1).  \n",
    "2. Corriger la référence à i: voir exemple ci desssous."
   ]
  },
  {
   "cell_type": "code",
   "execution_count": null,
   "id": "ea2eceb2",
   "metadata": {},
   "outputs": [],
   "source": [
    "tab = input(\"Table de multiplication par: ?\")\n",
    "for i in range(10):\n",
    "    print(tab,\" x\", i+1,\" = \",int(tab)*(i+1))"
   ]
  },
  {
   "cell_type": "markdown",
   "id": "graphic-bouquet",
   "metadata": {},
   "source": [
    "<i class=\"fa fa-arrow-right\" aria-hidden=\"true\"></i> Afficher 50 valeurs d'une table n :"
   ]
  },
  {
   "cell_type": "code",
   "execution_count": null,
   "id": "34947f6d",
   "metadata": {},
   "outputs": [],
   "source": [
    "tab = input(\"Table de multiplication par: ?\")\n",
    "for i in range(1,51):\n",
    "    print(tab,\" x\", i,\" = \",int(tab)*i)"
   ]
  },
  {
   "cell_type": "markdown",
   "id": "0695413f",
   "metadata": {},
   "source": [
    "<i class=\"fa fa-arrow-right\" aria-hidden=\"true\"></i> Afficher les tables: de 1 à 10"
   ]
  },
  {
   "cell_type": "code",
   "execution_count": null,
   "id": "32593e1a",
   "metadata": {},
   "outputs": [],
   "source": [
    "#tab = input(\"Table de multiplication par: ?\")\n",
    "for i in range(10):\n",
    "    print(\"Voici la table de \",i+1)\n",
    "    for j in range(10):\n",
    "        print(i+1,\" x\", j+1,\" = \",(i+1)*(j+1))\n",
    "    "
   ]
  },
  {
   "cell_type": "markdown",
   "id": "403d564f",
   "metadata": {},
   "source": [
    "<i class=\"fa fa-arrow-right\" aria-hidden=\"true\"></i> Variante avec une boucle *While*"
   ]
  },
  {
   "cell_type": "code",
   "execution_count": null,
   "id": "cdbbeb0a",
   "metadata": {},
   "outputs": [],
   "source": [
    "i=1\n",
    "table = int(input('Table de multiplication par : '))\n",
    "while i<=10:\n",
    "    print(table,'x',i,'=',table*i)\n",
    "    i +=1"
   ]
  },
  {
   "cell_type": "markdown",
   "id": "1414aac6",
   "metadata": {},
   "source": [
    "<h3  class='fa fa-cog' style=\"color: purple\"> Exercice 2: Ascii Art</h3> <br> \n",
    "![image2](attachment:CroixDsCarre.png)\n",
    "![image3](attachment:DiagonaleCarre.png)"
   ]
  },
  {
   "cell_type": "code",
   "execution_count": null,
   "id": "29f4b23d",
   "metadata": {},
   "outputs": [],
   "source": [
    "def croixCarre (n):\n",
    "    print(\"X \"*n)\n",
    "    for i in range ((n//2)-1):\n",
    "        print(\"X\" + (n-2)*\" \" + \"X\" + (n-2)*\" \" + \"X\")\n",
    "    print(\"X \"*n)\n",
    "    for i in range ((n//2)-1):\n",
    "            print(\"X\" + (n-2)*\" \" + \"X\" + (n-2)*\" \" + \"X\")\n",
    "    print(\"X \"*n)\n",
    "\n",
    "def diagDescendante (n):\n",
    "    print(\"\\n\"+\"X \"*n)\n",
    "    for i in range (0, n-2):\n",
    "        print(\"X \" + \" \"*(i*2) +\"X\" + \" \"*(((n-(i+2))*2)-1) + \"X\")\n",
    "    print(\"X \"*n)\n",
    "    \n",
    "dim = int(input(\"Saisir la dimension N: \"))\n",
    "croixCarre(dim)\n",
    "diagDescendante(dim)\n",
    "\n"
   ]
  },
  {
   "cell_type": "markdown",
   "id": "5fcb84e2",
   "metadata": {},
   "source": [
    "<h3  class='fa fa-cog' style=\"color: purple\"> Exercice 3: Compléter la fonction du calcul du nombre de jour depuis le début de l'année :</h3> <br>"
   ]
  },
  {
   "cell_type": "code",
   "execution_count": null,
   "id": "a5e0c1ec",
   "metadata": {},
   "outputs": [],
   "source": [
    "'''              ANNEE BISSEXTILE:\n",
    "Rappel: Une année est bissextile si elle est divisible par 4.\n",
    "Les siècles ne sont pas bissextiles, sauf les multiples de 400.\n",
    "'''\n",
    "\n",
    "#****************************************\n",
    "#***  DECLARATION DES FONCTIONS LOCALES:  ***\n",
    "\n",
    "\n",
    "def estBissextile (annee):\n",
    "    \" Retourne True si l'ann�e est bissextile \"\n",
    "    if (annee %4 ==0 and annee %100 !=0) or annee %400 ==0:\n",
    "        return True\n",
    "    return False\n",
    "\n",
    "def nbJourDuMois (mois, annee):\n",
    "    \"Retourne le nb de jours du mois de l'ann�e\"\n",
    "    jours = 31\n",
    "    if mois < 7 and mois % 2 == 0 or mois > 7 and mois % 2 == 1:\n",
    "        jours = 30\n",
    "    if mois == 2:\n",
    "        jours = 28\n",
    "        if bissextile:\n",
    "            jours = 29\n",
    "    return jours\n",
    "\n",
    "def nbJours (jour, mois, annee):\n",
    "    \"Retourne le nb de jours depuis le d�but de l'ann�e\"\n",
    "    nbJrs = 20\n",
    "    for i in range(mois-1):\n",
    "        nbJrs = nbJrs + nbJourDuMois(i+1, annee)\n",
    "        #print(nbJourDuMois(i+1, annee)) #Instrumentation\n",
    "    return nbJrs\n",
    "    \n",
    "#***  PROGRAMME PRINCIPAL:  ***\n",
    "\n",
    "a = int( input('Saisir une ann�e : '))\n",
    "bissextile = estBissextile(a)\n",
    "print(f\"Lann�e {a} est bissextile : {bissextile}\") \n",
    "m = int( input('Saisir un num�ro de mois : '))\n",
    "j = int( input('Saisir le num�ro du jour : '))\n",
    "print(f\"Le nombre de jour depuis d�but de l'ann�e est: {nbJours(j, m, a)}\")"
   ]
  }
 ],
 "metadata": {
  "kernelspec": {
   "display_name": "Python 3 (ipykernel)",
   "language": "python",
   "name": "python3"
  },
  "language_info": {
   "codemirror_mode": {
    "name": "ipython",
    "version": 3
   },
   "file_extension": ".py",
   "mimetype": "text/x-python",
   "name": "python",
   "nbconvert_exporter": "python",
   "pygments_lexer": "ipython3",
   "version": "3.7.3"
  }
 },
 "nbformat": 4,
 "nbformat_minor": 5
}
