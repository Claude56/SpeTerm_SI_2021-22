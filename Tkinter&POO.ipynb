{
 "cells": [
  {
   "cell_type": "markdown",
   "metadata": {},
   "source": [
    "<h1 style=\"color: navy\"> Le module Tkinter et la POO :</h1>"
   ]
  },
  {
   "cell_type": "markdown",
   "metadata": {},
   "source": [
    "Le module *Tkinter* permet de piloter la bibliothèque graphique Tk (Tool Kit), Tkinter signifiant tk interface. Ce module permet de développer un *graphical user interface* ou encore **GUI**.<br/>\n",
    "L'utilisation d'une GUI amene une nouvelle manière d'aborder le déroulement d'un programme, il s'agit de la programmation dite « événementielle ». Avec une GUI, l'exécution est décidée par l'utilisateur en fonction de ses interactions avec les différents widgets (window gadget). Comme c'est l'utilisateur qui décide quand et où il clique dans l'interface, il faut mettre en place un « gestionnaire d'événements »."
   ]
  },
  {
   "cell_type": "code",
   "execution_count": 2,
   "metadata": {
    "collapsed": true
   },
   "outputs": [
    {
     "name": "stdout",
     "output_type": "stream",
     "text": [
      "C'est fini !\n"
     ]
    }
   ],
   "source": [
    "# Exemple simple d'utilisation du module Tkinter:\n",
    "import tkinter as tk\n",
    "\n",
    "racine = tk.Tk()\n",
    "label = tk.Label(racine, text=\"Coucou !\")\n",
    "bouton = tk.Button(racine, text=\"Quitter\", command=racine.quit) \n",
    "bouton[\"fg\"] = \"red\"\n",
    "label.pack()\n",
    "bouton.pack()\n",
    "racine.mainloop()\n",
    "print(\"C'est fini !\")"
   ]
  },
  {
   "cell_type": "markdown",
   "metadata": {},
   "source": [
    "A la ligne 6: **command=racine.quit** constitue un appel de fonction *Callback* => Voir notebook spécifique."
   ]
  },
  {
   "cell_type": "code",
   "execution_count": 3,
   "metadata": {},
   "outputs": [],
   "source": [
    "# Un autre exemple, en version POO:\n",
    "import tkinter as tk\n",
    "\n",
    "class Application(tk.Tk):\n",
    "    def __init__(self):\n",
    "        tk.Tk.__init__(self)\n",
    "        self.creer_widgets()\n",
    "\n",
    "    def creer_widgets(self):\n",
    "        self.label = tk.Label(self, text=\"Salut !\")\n",
    "        self.bouton = tk.Button(self, text=\"Quitter\", command=self.quit)\n",
    "        self.label.pack()\n",
    "        self.bouton.pack()\n",
    "\n",
    "app = Application()\n",
    "app.title(\"FenêtreGraphique\")\n",
    "app.mainloop()"
   ]
  },
  {
   "cell_type": "markdown",
   "metadata": {},
   "source": [
    "=> Tester et commenter le script ci-dessus."
   ]
  },
  {
   "cell_type": "code",
   "execution_count": 5,
   "metadata": {},
   "outputs": [],
   "source": [
    "# Un autre exemple avec un canvas:\n",
    "import tkinter as tk\n",
    "import random as rd\n",
    "\n",
    "class AppliCanevas(tk.Tk):\n",
    "    def __init__(self):\n",
    "        tk.Tk.__init__(self)\n",
    "        self.size = 500\n",
    "        self.creer_widgets()\n",
    "\n",
    "    def creer_widgets(self):\n",
    "        # création canevas\n",
    "        self.canv = tk.Canvas(self, bg=\"light gray\", height=self.size,\n",
    "                              width=self.size)\n",
    "        self.canv.pack(side=tk.LEFT)\n",
    "        # boutons\n",
    "        self.bouton_cercles = tk.Button(self, text=\"Cercle !\",\n",
    "                                        command=self.dessine_cercles)\n",
    "        self.bouton_cercles.pack(side=tk.TOP)\n",
    "        self.bouton_lignes = tk.Button(self, text=\"Lignes !\",\n",
    "                                       command=self.dessine_lignes)\n",
    "        self.bouton_lignes.pack()\n",
    "        self.bouton_quitter = tk.Button(self, text=\"Quitter\",\n",
    "                                        command=self.quit)\n",
    "        self.bouton_quitter.pack(side=tk.BOTTOM)\n",
    "\n",
    "    def rd_col(self):\n",
    "        return rd.choice((\"black\", \"red\", \"green\", \"blue\", \"yellow\", \"magenta\",\n",
    "                          \"cyan\", \"white\", \"purple\"))\n",
    "\n",
    "    def dessine_cercles(self):\n",
    "        for i in range(20):\n",
    "            x, y = [rd.randint(1, self.size) for j in range(2)]\n",
    "            diameter = rd.randint(1, 50)\n",
    "            self.canv.create_oval(x, y, x+diameter, y+diameter,\n",
    "                                  fill=self.rd_col())\n",
    "\n",
    "    def dessine_lignes(self):\n",
    "        for i in range(20):\n",
    "            x, y, x2, y2 = [rd.randint(1, self.size) for j in range(4)]\n",
    "            self.canv.create_line(x, y, x2, y2, fill=self.rd_col())\n",
    "            \n",
    "            \n",
    "app = AppliCanevas()\n",
    "app.title(\"Canevas Psychédélique !\")\n",
    "app.mainloop()"
   ]
  },
  {
   "cell_type": "code",
   "execution_count": 1,
   "metadata": {},
   "outputs": [],
   "source": [
    "\"\"\"    Appli balle  => Les méthodes: incr et decr sont à compléter !\n",
    "Usage:\n",
    "- clic gauche: faire grossir la baballe (fonction à compléter)\n",
    "- clic droit: faire rétrécir la baballe (fonction à compléter)\n",
    "- clic central: relance la baballe (depuis le  point du clic) dans une direction aléatoire\n",
    "- touche Esc: quitte l'appli\n",
    "\"\"\"\n",
    "\n",
    "import tkinter as tk\n",
    "import random as rd\n",
    "\n",
    "class AppliBalle(tk.Tk):\n",
    "    def __init__(self):\n",
    "        \"\"\"Constructeur de l'application.\"\"\"\n",
    "        tk.Tk.__init__(self)\n",
    "        # Coord balle.\n",
    "        self.x, self.y = 200, 200\n",
    "        # Rayon balle.\n",
    "        self.size = 50\n",
    "        # Pas de deplacement.\n",
    "        self.dx, self.dy = 20, 20\n",
    "        # Création et packing du canvas.\n",
    "        self.canv = tk.Canvas(self, bg='light gray', height=400, width=400)\n",
    "        self.canv.pack()\n",
    "        # Création de la balle.\n",
    "        self.balle = self.canv.create_oval(self.x, self.y, self.x+self.size, self.y+self.size, width=2, fill=\"blue\")\n",
    "        # Binding des actions.\n",
    "        self.canv.bind(\"<Button-1>\", self.incr)\n",
    "        self.canv.bind(\"<Button-2>\", self.boom)\n",
    "        self.canv.bind(\"<Button-3>\", self.decr)\n",
    "        self.bind(\"<Escape>\", self.stop)\n",
    "        # Lancer la balle.\n",
    "        self.move()\n",
    "\n",
    "    def move(self):\n",
    "        \"\"\"Déplace la balle (appelée itérativement avec la méthode after).\"\"\"\n",
    "        # Incrémente coord balle.\n",
    "        self.x += self.dx\n",
    "        self.y += self.dy\n",
    "        # Vérifier que la balle ne sort pas du canvas (choc élastique).\n",
    "        if self.x < 10:\n",
    "            self.dx = abs(self.dx)\n",
    "        if self.x > 400-self.size-10:\n",
    "            self.dx = -abs(self.dx)\n",
    "        if self.y < 10:\n",
    "            self.dy = abs(self.dy)\n",
    "        if self.y > 400-self.size-10:\n",
    "            self.dy = -abs(self.dy)\n",
    "        # Mise à jour des coord.\n",
    "        self.canv.coords(self.balle, self.x, self.y, self.x+self.size, self.y+self.size)\n",
    "        # Rappel de move toutes les 50ms.\n",
    "        self.after(50, self.move)\n",
    "\n",
    "    def boom(self, mclick):\n",
    "        \"\"\"Relance la baballe dans une direction aléatoire au point du clic.\"\"\"\n",
    "        self.x = mclick.x\n",
    "        self.y = mclick.y\n",
    "        self.canv.create_text(self.x, self.y, text=\"Boom !\", fill=\"red\")\n",
    "        self.dx = rd.choice([-30, -20, -10, 10, 20, 30])\n",
    "        self.dy = rd.choice([-30, -20, -10, 10, 20, 30])\n",
    "\n",
    "    def incr(self, lclick):\n",
    "        \"\"\"Augmente la taille de la balle: +10 et jusqu'à la limite de 200\n",
    "                    A compléter!\n",
    "        \"\"\"\n",
    "        \n",
    "    def decr(self, rclick):\n",
    "        \"\"\"Diminue la taille de la balle: -10 et jusqu'à 10 minimun\n",
    "                    A compléter!\n",
    "        \"\"\"\n",
    "       \n",
    "\n",
    "    def stop(self, esc):\n",
    "        \"\"\"Quitte l'application.\"\"\"\n",
    "        self.quit()\n",
    "        \n",
    "        \n",
    "app = AppliBalle()\n",
    "app.title(\"Balle !\")\n",
    "app.mainloop()"
   ]
  },
  {
   "cell_type": "markdown",
   "metadata": {},
   "source": [
    "La méthode *.pack()* est utilsée pour placer les widgets. Cette méthode « empaquette » les widgets les uns contre les autres et redimensionne la fenêtre automatiquement. <br/>\n",
    "Avec l'option *side=* et les variables *tk.BOTTOM, tk.LEFT, tk.TOP et tk.RIGHT* on place facilement les widgets les uns par rapport aux autres. Toutefois, la méthode *.pack()* peut parfois présenter des limites, il existe alors deux autres alternatives:\n",
    "=> La méthode *.grid()* qui permet, grâce à l'utilisation d'une grille, un placement mieux contrôlé des différents widgets. <br/>\n",
    "=> La méthode *.place()* qui positionne les widgets en utilisant les coordonnées de la fenêtre principale.\n",
    "* [Pack](http://effbot.org/tkinterbook/pack.htm)\n",
    "* [Grid](http://effbot.org/tkinterbook/grid.htm)\n",
    "* [Place](http://effbot.org/tkinterbook/place.htm)"
   ]
  },
  {
   "cell_type": "markdown",
   "metadata": {},
   "source": [
    "<h2 class='fa fa-cog' style=\"color: SeaGreen\"> Exercice : réaliser un compte à rebours </h2>\n",
    "\n",
    "![image_1](tk_compte_a_rebours.png)"
   ]
  },
  {
   "cell_type": "markdown",
   "metadata": {},
   "source": [
    "####Indications:\n",
    "* La durée du compte à rebours est passée en argument au script: voir le module **sys**\n",
    "* Cet argument représente la durée, exprimée en minute et limitée à 240 min.\n",
    "* Prévoir un bouton « Lancer » pour démarrer le compte à rebours et un boutton « Quitter » pour permettre de quitter avant la fin.\n",
    "* À la fin du rebours, le programme affichera 10 fois la phrase « C'est fini !!! » dans le *shell*."
   ]
  }
 ],
 "metadata": {
  "kernelspec": {
   "display_name": "Python 3",
   "language": "python",
   "name": "python3"
  },
  "language_info": {
   "codemirror_mode": {
    "name": "ipython",
    "version": 3
   },
   "file_extension": ".py",
   "mimetype": "text/x-python",
   "name": "python",
   "nbconvert_exporter": "python",
   "pygments_lexer": "ipython3",
   "version": "3.7.7"
  }
 },
 "nbformat": 4,
 "nbformat_minor": 4
}
